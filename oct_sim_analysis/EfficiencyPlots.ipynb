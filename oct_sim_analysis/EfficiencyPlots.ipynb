{
 "cells": [
  {
   "cell_type": "code",
   "execution_count": 1,
   "metadata": {},
   "outputs": [],
   "source": [
    "import os\n",
    "\n",
    "import numpy as np\n",
    "import uproot\n",
    "import matplotlib.pyplot as plt\n",
    "import modplot\n",
    "from glob import glob"
   ]
  },
  {
   "cell_type": "code",
   "execution_count": 2,
   "metadata": {},
   "outputs": [],
   "source": [
    "plt.rcParams['figure.figsize'] = (6,4)\n",
    "plt.rcParams['figure.dpi'] = 120\n",
    "plt.rcParams['font.family'] = 'serif'\n",
    "plt.rcParams['text.usetex'] = False"
   ]
  },
  {
   "cell_type": "code",
   "execution_count": 3,
   "metadata": {},
   "outputs": [],
   "source": [
    "def find_string_vals_in_file(file_name, string_to_search):\n",
    "    \"\"\" Return values from all lines in the file that contains given string \"\"\"\n",
    "    vals = []\n",
    "    # Open the file in read only mode\n",
    "    with open(file_name, 'r') as read_obj:\n",
    "        # Read all lines in the file one by one\n",
    "        for line in read_obj:\n",
    "            # For each line, check if line contains the string\n",
    "            if string_to_search in line:\n",
    "                vals.append(line)\n",
    "                #vals.append(line.split(': ')[-1].split('\\n')[0])\n",
    "                #return True\n",
    "    if len(vals) == 1:\n",
    "        return vals[0]\n",
    "    return vals"
   ]
  },
  {
   "cell_type": "markdown",
   "metadata": {},
   "source": [
    "## Loading the Data"
   ]
  },
  {
   "cell_type": "code",
   "execution_count": 4,
   "metadata": {},
   "outputs": [],
   "source": [
    "# pass in the full directory\n",
    "data_path = '/Users/anthonybadea/Documents/ATLAS/data/simResults_051920_102540' \n",
    "list_of_dirs = glob(data_path+'/*')\n",
    "# construct a list of dictionaries for each data file\n",
    "data = []\n",
    "for direct in list_of_dirs:\n",
    "    file = glob(direct+'/stdout*.txt')[0]\n",
    "    # load the parameters\n",
    "    nEvent = float(find_string_vals_in_file(file,'muons triggered out of ').split('out of ')[-1].split(' muons that should trigger\\n')[0])\n",
    "    bkgRate = float(find_string_vals_in_file(file,' >> Background rate of ').split('>> Background rate of ')[-1].split(' Hz per strip')[0])\n",
    "    mmEffs = [float(i.split(':')[-1].split('\\n')[0]) for i in find_string_vals_in_file(file,\"MM efficiency\")]\n",
    "    # load the data\n",
    "    data_file = glob(direct+'/*.root')[0]\n",
    "    data_file = uproot.open(data_file)\n",
    "    real_x_muon = data_file['gingko']['real_x_muon'].array()\n",
    "    real_y_muon = data_file['gingko']['real_y_muon'].array()\n",
    "    trig_x = data_file['gingko']['trig_x'].array()\n",
    "    trig_y = data_file['gingko']['trig_y'].array()\n",
    "    # append dictionary of parameters and data\n",
    "    data.append({'nEvent':nEvent,\n",
    "                 'bkgRate':bkgRate,\n",
    "                 'mmEffs':mmEffs,\n",
    "                 'real_x_muon':real_x_muon,\n",
    "                 'real_y_muon':real_y_muon,\n",
    "                 'trig_x':trig_x,\n",
    "                 'trig_y':trig_y,})"
   ]
  },
  {
   "cell_type": "markdown",
   "metadata": {},
   "source": [
    "## Plot a sample distribution"
   ]
  },
  {
   "cell_type": "code",
   "execution_count": 6,
   "metadata": {},
   "outputs": [
    {
     "data": {
      "image/png": "[encoded data removed]",
      "text/plain": [
       "<Figure size 720x480 with 1 Axes>"
      ]
     },
     "metadata": {
      "needs_background": "light"
     },
     "output_type": "display_data"
    }
   ],
   "source": [
    "'''\n",
    "# compute the distributions to determine the bin-by-bin corrections\n",
    "bins = np.linspace(0, 3500, 350)\n",
    "density = False\n",
    "#plt.hist(nature['data_thrusts'], bins=bins, histtype='step', color='black', density=density)\n",
    "real_x_muon_hist = plt.hist(data[0]['real_x_muon'], bins=bins, histtype='step', color='black', density=density, label='Real Muon X')[0]\n",
    "real_y_muon_hist = plt.hist(data[0]['real_y_muon'], bins=bins, histtype='step', color='blue', density=density, label='Real Muon Y')[0]\n",
    "#trig_x_hist = plt.hist(trig_x, bins=bins, histtype='step', color='red', density=density)[0]\n",
    "#trig_y_hist = plt.hist(trig_y, bins=bins, histtype='step', color='green', density=density)[0]\n",
    "\n",
    "#plt.yscale('log')\n",
    "plt.legend(loc=\"upper right\")\n",
    "plt.show()\n",
    "'''"
   ]
  },
  {
   "cell_type": "markdown",
   "metadata": {},
   "source": [
    "## Compute the distributions of interest"
   ]
  },
  {
   "cell_type": "code",
   "execution_count": 17,
   "metadata": {},
   "outputs": [
    {
     "name": "stdout",
     "output_type": "stream",
     "text": [
      "----------------------------------------\n",
      "Computing the number of triggered muons\n",
      "Job 0/27\n",
      "Job 10/27\n",
      "Job 20/27\n",
      "Finished!\n",
      "----------------------------------------\n"
     ]
    }
   ],
   "source": [
    "# Calculate the number of triggered muons \n",
    "# This computation takes a while\n",
    "xCut = 5\n",
    "yCut = 5\n",
    "counter = 0\n",
    "print('----------------------------------------')\n",
    "print('Computing the number of triggered muons')\n",
    "for job in data:\n",
    "    if counter % 10 == 0: print(\"Job {}/{}\".format(counter,len(data)))\n",
    "    real_x_muon = job['real_x_muon']\n",
    "    real_y_muon = job['real_y_muon']\n",
    "    trig_x = job['trig_x']\n",
    "    trig_y = job['trig_y']\n",
    "    TObs = 0\n",
    "    for i in range(len(real_x_muon)):\n",
    "        realMuonX = real_x_muon[i]\n",
    "        realMuonY = real_y_muon[i]\n",
    "        for j in range(len(trig_x[i])):\n",
    "            trigX = trig_x[i][j]\n",
    "            trigY = trig_y[i][j]\n",
    "            if (abs(realMuonX - trigX) < xCut) and (abs(realMuonY - trigY) < yCut):\n",
    "                TObs+=1\n",
    "                break  \n",
    "    job['TObs'] = TObs\n",
    "    counter += 1\n",
    "print('Finished!')\n",
    "print('----------------------------------------')"
   ]
  },
  {
   "cell_type": "code",
   "execution_count": 10,
   "metadata": {},
   "outputs": [],
   "source": [
    "# Compute the group, detector, and trigger efficiencies\n",
    "# P = product of (1-(1-Ed_{i1})*(1-Ed_{i2})) where i1,i2 are members of each of the four groups \n",
    "# group 1 includes the first two x-layers, group 2 includes the u-layers, \n",
    "# group 3 includes the v-layers and group 4 includes the final two x-layers.\n",
    "for job in data:\n",
    "    mmEffs = job['mmEffs']\n",
    "    probTrig = [(1-(1-mmEffs[i])*(1-mmEffs[i+1])) for i in range(0,len(mmEffs),2)]\n",
    "    probTrig = np.array(probTrig).prod()\n",
    "    NExp = probTrig*job['nEvent']\n",
    "    trigEff = job['TObs']/(NExp)\n",
    "    trigEff_err = (1/NExp)*(job['TObs'] * (1-job['TObs']/NExp))**0.5\n",
    "    job['probTrig'] = probTrig\n",
    "    job['trigEff'] = trigEff\n",
    "    job['trigEff_err'] = trigEff_err"
   ]
  },
  {
   "cell_type": "code",
   "execution_count": 11,
   "metadata": {},
   "outputs": [
    {
     "name": "stdout",
     "output_type": "stream",
     "text": [
      "Sample trigger probability 1.0, efficiency 0.88, and error 0.0032496153618543845\n"
     ]
    }
   ],
   "source": [
    "print('Sample trigger probability {}, efficiency {}, and error {}'.format(data[0]['probTrig'],data[0]['trigEff'],data[0]['trigEff_err']))"
   ]
  },
  {
   "cell_type": "code",
   "execution_count": 21,
   "metadata": {},
   "outputs": [],
   "source": [
    "# Dictionary to store the data\n",
    "hist_data = {'BkgRates':[job['bkgRate'] for job in data],\n",
    "             'TrigEffs':[job['trigEff'] for job in data],\n",
    "             'TrigEff_errs':[job['trigEff_err'] for job in data],\n",
    "             'ProbTrigs':[job['probTrig'] for job in data]\n",
    "    }"
   ]
  },
  {
   "cell_type": "code",
   "execution_count": 22,
   "metadata": {},
   "outputs": [],
   "source": [
    "# a dictionary to hold plotting information about the observables\n",
    "obs = {}\n",
    "obs.setdefault('TrigEff_BkgRate_ProbTrig',{}).update({\n",
    "    'xlim': (0.5*10**2,10**5), 'ylim': (0.35,0.9), 'ylim_ratio': (0.7,1.3),\n",
    "    'xlabel': 'Background Rate (Hz)', 'ylabel': 'Trigger Efficiency', 'ylabel_ratio':\"TEST\",\n",
    "    'legend_loc': 'lower left', 'legend_ncol': 1,\n",
    "    'x':'BkgRates','y':'TrigEffs','y_err':'TrigEff_errs',\n",
    "    'scan':'ProbTrigs'\n",
    "})\n",
    "\n",
    "histStyle = {'ls': '-', 'marker': 'o', 'ms': 3.5, 'color': 'black', 'zorder': 1}\n",
    "legend_opts = {'handlelength': 2.0, 'loc': 'lower left', 'frameon': False, 'numpoints': 1}"
   ]
  },
  {
   "cell_type": "markdown",
   "metadata": {},
   "source": [
    "## Plot Background Rate vs Trigger Efficiency for Each Trigger Probability"
   ]
  },
  {
   "cell_type": "code",
   "execution_count": 23,
   "metadata": {},
   "outputs": [],
   "source": [
    "ob = obs['TrigEff_BkgRate_ProbTrig']"
   ]
  },
  {
   "cell_type": "code",
   "execution_count": 25,
   "metadata": {},
   "outputs": [],
   "source": [
    "# Sort the data based on probability of trigger\n",
    "prob_dict = {}\n",
    "for i in range(len(hist_data['ProbTrigs'])):\n",
    "    if hist_data['ProbTrigs'][i] not in prob_dict.keys():\n",
    "        prob_dict[hist_data['ProbTrigs'][i]] = {'BkgRates':[],\n",
    "                                                'TrigEffs':[],\n",
    "                                                'TrigEff_errs':[]}\n",
    "    prob_dict[hist_data['ProbTrigs'][i]]['BkgRates'].append(hist_data['BkgRates'][i])\n",
    "    prob_dict[hist_data['ProbTrigs'][i]]['TrigEffs'].append(hist_data['TrigEffs'][i])\n",
    "    prob_dict[hist_data['ProbTrigs'][i]]['TrigEff_errs'].append(hist_data['TrigEff_errs'][i])\n",
    "\n",
    "for key in prob_dict.keys():\n",
    "    sorted_data = sorted(zip(prob_dict[key]['BkgRates'], prob_dict[key]['TrigEffs'], prob_dict[key]['TrigEff_errs']))\n",
    "    prob_dict[key]['BkgRates'] = [i[0] for i in sorted_data]\n",
    "    prob_dict[key]['TrigEffs'] = [i[1] for i in sorted_data]\n",
    "    prob_dict[key]['TrigEff_errs'] = [i[2] for i in sorted_data]"
   ]
  },
  {
   "cell_type": "code",
   "execution_count": 33,
   "metadata": {},
   "outputs": [
    {
     "data": {
      "image/png": "[encoded data removed]",
      "text/plain": [
       "<Figure size 480x480 with 2 Axes>"
      ]
     },
     "metadata": {
      "needs_background": "light"
     },
     "output_type": "display_data"
    }
   ],
   "source": [
    "fig, [ax0, ax1] = modplot.axes(**ob)\n",
    "# additional axis settings\n",
    "ax0.set_xscale(\"log\")\n",
    "ax0.grid()\n",
    "ax1.set_xscale(\"log\")\n",
    "\n",
    "for key in prob_dict.keys():\n",
    "\n",
    "    # plot the distribution\n",
    "    ax0.errorbar(prob_dict[key]['BkgRates'],prob_dict[key]['TrigEffs'],yerr=prob_dict[key]['TrigEff_errs'], **histStyle, label='Trigger Probability {}'.format(key))\n",
    "\n",
    "ax1.plot(ob['xlim'], [1, 1], '--', color='green', lw=0.75)\n",
    "# legend style and ordering\n",
    "loc, ncol = ob.get('legend_loc', 'upper right'), ob.get('legend_ncol', 1)\n",
    "order = range(len(prob_dict.keys()))\n",
    "\n",
    "# plot the legend\n",
    "ax0.legend(**legend_opts)\n",
    "\n",
    "fig.savefig('TrigEff_BkgRate_ProbTrig.pdf', bbox_inches='tight')\n",
    "plt.show()"
   ]
  },
  {
   "cell_type": "code",
   "execution_count": 35,
   "metadata": {},
   "outputs": [
    {
     "name": "stdout",
     "output_type": "stream",
     "text": [
      "[NbConvertApp] Converting notebook EfficiencyPlots.ipynb to python\n",
      "[NbConvertApp] Writing 7747 bytes to EfficiencyPlots.py\n"
     ]
    }
   ],
   "source": [
    "# Convert notebook into python file\n",
    "!jupyter nbconvert --to python 'EfficiencyPlots.ipynb'"
   ]
  },
  {
   "cell_type": "code",
   "execution_count": null,
   "metadata": {},
   "outputs": [],
   "source": []
  }
 ],
 "metadata": {
  "kernelspec": {
   "display_name": "Python 3",
   "language": "python",
   "name": "python3"
  },
  "language_info": {
   "codemirror_mode": {
    "name": "ipython",
    "version": 3
   },
   "file_extension": ".py",
   "mimetype": "text/x-python",
   "name": "python",
   "nbconvert_exporter": "python",
   "pygments_lexer": "ipython3",
   "version": "3.7.6"
  }
 },
 "nbformat": 4,
 "nbformat_minor": 4
}
